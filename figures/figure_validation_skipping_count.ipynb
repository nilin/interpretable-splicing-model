{
 "cells": [
  {
   "cell_type": "markdown",
   "id": "96a2f413-e8e0-418f-b424-b4c256d21499",
   "metadata": {},
   "source": [
    "# Fig S9"
   ]
  },
  {
   "cell_type": "code",
   "execution_count": 2,
   "id": "966097a9",
   "metadata": {
    "ExecuteTime": {
     "end_time": "2022-05-16T15:37:27.946593Z",
     "start_time": "2022-05-16T15:37:27.942742Z"
    }
   },
   "outputs": [],
   "source": [
    "import numpy as np\n",
    "import matplotlib.pyplot as plt\n",
    "import seaborn as sns\n",
    "import pandas as pd\n",
    "from scipy.stats import ttest_ind, ks_2samp, ttest_rel, ranksums, mannwhitneyu, wilcoxon, kruskal, median_test"
   ]
  },
  {
   "cell_type": "code",
   "execution_count": 3,
   "id": "59c446d3",
   "metadata": {
    "ExecuteTime": {
     "end_time": "2022-05-16T14:11:32.482378Z",
     "start_time": "2022-05-16T14:11:32.458978Z"
    }
   },
   "outputs": [],
   "source": [
    "plt.style.use(\"clean.mplstyle\")"
   ]
  },
  {
   "cell_type": "code",
   "execution_count": 4,
   "id": "12d0b6f3",
   "metadata": {
    "ExecuteTime": {
     "end_time": "2022-05-16T14:11:32.487726Z",
     "start_time": "2022-05-16T14:11:32.483117Z"
    }
   },
   "outputs": [],
   "source": [
    "machine_precision = np.finfo(np.float64).eps"
   ]
  },
  {
   "cell_type": "markdown",
   "id": "65599f5a",
   "metadata": {},
   "source": [
    "# Porg plot"
   ]
  },
  {
   "cell_type": "code",
   "execution_count": null,
   "id": "ad2f2a0d-82b0-419b-8bd1-c917c12b5d9a",
   "metadata": {
    "ExecuteTime": {
     "end_time": "2022-05-11T14:30:22.459182Z",
     "start_time": "2022-05-11T14:30:22.174096Z"
    }
   },
   "outputs": [],
   "source": [
    "plot_data = pd.read_csv('./data/borg_experiment_data_events.csv', index_col=0)"
   ]
  },
  {
   "cell_type": "code",
   "execution_count": 23,
   "id": "d8c9453f",
   "metadata": {
    "ExecuteTime": {
     "end_time": "2022-05-11T14:30:22.515256Z",
     "start_time": "2022-05-11T14:30:22.460746Z"
    }
   },
   "outputs": [
    {
     "data": {
      "text/plain": [
       "Ttest_indResult(statistic=1.3339052752969371, pvalue=0.18223648600171236)"
      ]
     },
     "execution_count": 23,
     "metadata": {},
     "output_type": "execute_result"
    }
   ],
   "source": [
    "ttest_ind(plot_data.query('variable == \"num_exon_inclusion_skipping\" & high_borg_activation')['value'],\n",
    "          plot_data.query('variable == \"num_exon_inclusion_skipping\" & ~high_borg_activation')['value'])"
   ]
  },
  {
   "cell_type": "code",
   "execution_count": 24,
   "id": "7735435c",
   "metadata": {
    "ExecuteTime": {
     "end_time": "2022-05-11T14:30:22.560278Z",
     "start_time": "2022-05-11T14:30:22.516480Z"
    }
   },
   "outputs": [
    {
     "data": {
      "text/plain": [
       "Ttest_indResult(statistic=-71.36364921638456, pvalue=0.0)"
      ]
     },
     "execution_count": 24,
     "metadata": {},
     "output_type": "execute_result"
    }
   ],
   "source": [
    "ttest_ind(plot_data.query('variable == \"num_exon_inclusion\" & high_borg_activation')['value'],\n",
    "          plot_data.query('variable == \"num_exon_inclusion\" & ~high_borg_activation')['value'])"
   ]
  },
  {
   "cell_type": "code",
   "execution_count": 25,
   "id": "dc40fb44",
   "metadata": {
    "ExecuteTime": {
     "end_time": "2022-05-11T14:30:22.711095Z",
     "start_time": "2022-05-11T14:30:22.664412Z"
    }
   },
   "outputs": [
    {
     "data": {
      "text/plain": [
       "Ttest_indResult(statistic=84.4188898947244, pvalue=0.0)"
      ]
     },
     "execution_count": 25,
     "metadata": {},
     "output_type": "execute_result"
    }
   ],
   "source": [
    "pvalue = ttest_ind(plot_data.query('variable == \"num_exon_skipping\" & high_borg_activation')['value'],\n",
    "          plot_data.query('variable == \"num_exon_skipping\" & ~high_borg_activation')['value'])\n",
    "pvalue"
   ]
  },
  {
   "cell_type": "code",
   "execution_count": 26,
   "id": "9c2731aa",
   "metadata": {
    "ExecuteTime": {
     "end_time": "2022-05-11T14:30:23.503868Z",
     "start_time": "2022-05-11T14:30:22.835107Z"
    }
   },
   "outputs": [
    {
     "data": {
      "image/png": "[encoded data removed]",
      "text/plain": [
       "<Figure size 432x324 with 1 Axes>"
      ]
     },
     "metadata": {
      "needs_background": "light"
     },
     "output_type": "display_data"
    }
   ],
   "source": [
    "fig, ax = plt.subplots(figsize=(6, 4.5))\n",
    "sns.boxplot(x=\"variable\", y=\"value\", hue=\"high_borg_activation\",\n",
    "                    data=plot_data, palette=\"Set2\", showfliers=False, linewidth=2.5, ax=ax)\n",
    "ax.set_xticks(range(3))\n",
    "ax.set_xticklabels(['total', 'inclusion', 'exclusion'])\n",
    "ax.set_xlabel('')\n",
    "\n",
    "ax.set_ylim(-50, 750)\n",
    "ax.legend(ncol=1)\n",
    "ax.set_ylabel('Number of reads')\n",
    "ax.legend_.set_title('')\n",
    "for text in ax.legend_.texts:\n",
    "    if (text.get_text() == 'False'): text.set_text('G-poor filter activation $\\leq 20$')\n",
    "    if (text.get_text() == 'True'): text.set_text('G-poor filter activation $> 20$')\n",
    "        \n",
    "\n",
    "props = {'connectionstyle':'bar','arrowstyle':'-',\\\n",
    "                 'shrinkA':10,'shrinkB':10,'linewidth':2}\n",
    "# f'$p$ < {machine_precision:.2e}'\n",
    "ax.annotate(f'$p$ < {machine_precision:.0e}', xy=(2, 470), zorder=10, ha='center', va='center')\n",
    "barwidth = 0.2\n",
    "arrowheight = 400\n",
    "ax.annotate('', xy=(2-barwidth,arrowheight), xytext=(2+barwidth, arrowheight), arrowprops=props)\n",
    "\n",
    "\n",
    "ax.annotate(f'$p$ < {machine_precision:.0e}', xy=(1, 490), zorder=10, ha='center', va='center')\n",
    "barwidth = 0.2\n",
    "arrowheight = 420\n",
    "ax.annotate('', xy=(1-barwidth,arrowheight), xytext=(1+barwidth, arrowheight), arrowprops=props)\n",
    "\n",
    "        \n",
    "fig.savefig('./figs/borg_experiment_data_events.svg',\n",
    "            transparent=True, pad_inches=0.1,\n",
    "    bbox_inches='tight')"
   ]
  },
  {
   "cell_type": "markdown",
   "id": "620bb71e",
   "metadata": {},
   "source": [
    "# Structure plot"
   ]
  },
  {
   "cell_type": "code",
   "execution_count": 10,
   "id": "099676b7",
   "metadata": {
    "ExecuteTime": {
     "end_time": "2022-05-16T14:44:31.014199Z",
     "start_time": "2022-05-16T14:44:30.769441Z"
    }
   },
   "outputs": [],
   "source": [
    "plot_data = pd.read_csv('data/structure_experiment_data_events.csv.gz', index_col=0)"
   ]
  },
  {
   "cell_type": "code",
   "execution_count": 11,
   "id": "b9605238-036d-4972-a42c-7bc031502a68",
   "metadata": {},
   "outputs": [
    {
     "data": {
      "text/plain": [
       "Ttest_indResult(statistic=5.521299480228582, pvalue=3.3693581819098276e-08)"
      ]
     },
     "execution_count": 11,
     "metadata": {},
     "output_type": "execute_result"
    }
   ],
   "source": [
    "ttest_ind(plot_data.query('variable == \"num_exon_inclusion_skipping\" & high_structure_activation')['value'],\n",
    "          plot_data.query('variable == \"num_exon_inclusion_skipping\" & ~high_structure_activation')['value'])"
   ]
  },
  {
   "cell_type": "code",
   "execution_count": 12,
   "id": "21858681-e720-4c69-a56e-febb717c67be",
   "metadata": {},
   "outputs": [
    {
     "data": {
      "text/plain": [
       "Ttest_indResult(statistic=5.306548401227834, pvalue=1.1184409282374892e-07)"
      ]
     },
     "execution_count": 12,
     "metadata": {},
     "output_type": "execute_result"
    }
   ],
   "source": [
    "ttest_ind(plot_data.query('variable == \"total\" & high_structure_activation')['value'],\n",
    "          plot_data.query('variable == \"total\" & ~high_structure_activation')['value'])"
   ]
  },
  {
   "cell_type": "code",
   "execution_count": 13,
   "id": "4dbcc7c0-7d39-40c4-85b1-29a1b75bdc64",
   "metadata": {},
   "outputs": [
    {
     "data": {
      "text/plain": [
       "Ttest_indResult(statistic=17.638614970078745, pvalue=1.4130402203447906e-69)"
      ]
     },
     "execution_count": 13,
     "metadata": {},
     "output_type": "execute_result"
    }
   ],
   "source": [
    "ttest_ind(plot_data.query('variable == \"num_exon_skipping\" & high_structure_activation')['value'],\n",
    "          plot_data.query('variable == \"num_exon_skipping\" & ~high_structure_activation')['value'])"
   ]
  },
  {
   "cell_type": "code",
   "execution_count": 14,
   "id": "6f748fbc-0bb1-4bce-a467-a74c87983603",
   "metadata": {},
   "outputs": [
    {
     "data": {
      "text/plain": [
       "Ttest_indResult(statistic=-9.946590707389875, pvalue=2.6438755887760936e-23)"
      ]
     },
     "execution_count": 14,
     "metadata": {},
     "output_type": "execute_result"
    }
   ],
   "source": [
    "ttest_ind(plot_data.query('variable == \"num_exon_inclusion\" & high_structure_activation')['value'],\n",
    "          plot_data.query('variable == \"num_exon_inclusion\" & ~high_structure_activation')['value'])"
   ]
  },
  {
   "cell_type": "code",
   "execution_count": 25,
   "id": "bde98380",
   "metadata": {
    "ExecuteTime": {
     "end_time": "2022-05-16T14:44:39.184599Z",
     "start_time": "2022-05-16T14:44:37.986572Z"
    }
   },
   "outputs": [
    {
     "data": {
      "image/png": "[encoded data removed]",
      "text/plain": [
       "<Figure size 600x450 with 1 Axes>"
      ]
     },
     "metadata": {},
     "output_type": "display_data"
    }
   ],
   "source": [
    "fig, ax = plt.subplots(figsize=(6, 4.5))\n",
    "sns.boxplot(x=\"variable\", y=\"value\", hue=\"high_structure_activation\",\n",
    "                    data=plot_data.query(\"variable != 'total'\"), palette=\"Set2\", showfliers=False, linewidth=2.5, ax=ax)\n",
    "ax.set_xticks(range(3))\n",
    "ax.set_xticklabels(['total', 'inclusion', 'exclusion'])\n",
    "ax.set_xlabel('')\n",
    "\n",
    "ax.set_ylim(-50, 750)\n",
    "ax.legend(ncol=1)\n",
    "ax.set_ylabel('Number of reads')\n",
    "ax.legend_.set_title('')\n",
    "for text in ax.legend_.texts:\n",
    "    if (text.get_text() == 'False'): text.set_text('Stem-loop filter activation $\\leq 20$')\n",
    "    if (text.get_text() == 'True'): text.set_text('Stem-loop filter activation $> 20$')\n",
    "        \n",
    "props = {'connectionstyle':'bar','arrowstyle':'-',\\\n",
    "                 'shrinkA':10,'shrinkB':10,'linewidth':2}\n",
    "# f'$p$ < {machine_precision:.2e}'\n",
    "ax.annotate(f'$p$ < {machine_precision:.0e}', xy=(2, 470), zorder=10, ha='center', va='center')\n",
    "barwidth = 0.2\n",
    "arrowheight = 400\n",
    "ax.annotate('', xy=(2-barwidth,arrowheight), xytext=(2+barwidth, arrowheight), arrowprops=props)\n",
    "\n",
    "ax.annotate(f'$p$ < {machine_precision:.0e}', xy=(1, 490), zorder=10, ha='center', va='center')\n",
    "barwidth = 0.2\n",
    "arrowheight = 420\n",
    "ax.annotate('', xy=(1-barwidth,arrowheight), xytext=(1+barwidth, arrowheight), arrowprops=props)\n",
    "\n",
    "        \n",
    "fig.savefig('./figs/structure_experiment_data_events.svg',\n",
    "            transparent=True, pad_inches=0.1,\n",
    "    bbox_inches='tight')"
   ]
  },
  {
   "cell_type": "code",
   "execution_count": null,
   "id": "31214daf-0ec9-4efb-ba4b-781ba866e8e4",
   "metadata": {},
   "outputs": [],
   "source": []
  }
 ],
 "metadata": {
  "kernelspec": {
   "display_name": "Python 3 (ipykernel)",
   "language": "python",
   "name": "python3"
  },
  "language_info": {
   "codemirror_mode": {
    "name": "ipython",
    "version": 3
   },
   "file_extension": ".py",
   "mimetype": "text/x-python",
   "name": "python",
   "nbconvert_exporter": "python",
   "pygments_lexer": "ipython3",
   "version": "3.10.6"
  }
 },
 "nbformat": 4,
 "nbformat_minor": 5
}
