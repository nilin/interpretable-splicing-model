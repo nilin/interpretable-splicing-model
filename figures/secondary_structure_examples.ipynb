{
 "cells": [
  {
   "cell_type": "code",
   "execution_count": 33,
   "id": "34decb3a",
   "metadata": {
    "ExecuteTime": {
     "end_time": "2022-09-23T03:33:46.713011Z",
     "start_time": "2022-09-23T03:33:46.491517Z"
    }
   },
   "outputs": [],
   "source": [
    "# IMPORTANT: change this to your locations\n",
    "model_h5_file_location = f'/scratch/ms7490/code/splicing_library_analysis/2022_03_11_figures/models/custom_adjacency_regularizer_20210731_124_step3.h5'\n",
    "data_folder = f'/scratch/ms7490/code/splicing_library_analysis/2022_03_11_figures/data'\n",
    "\n",
    "# for webscraping Vienna Forna\n",
    "geckodriver_path = '/home/ms7490/scratch/other-code/geckodriver/geckodriver'\n",
    "firefox_binary_path = '/home/ms7490/scratch/other-code/geckodriver/firefox/firefox'"
   ]
  },
  {
   "cell_type": "code",
   "execution_count": 2,
   "id": "d08ce740",
   "metadata": {
    "ExecuteTime": {
     "end_time": "2022-09-23T03:21:37.325215Z",
     "start_time": "2022-09-23T03:21:37.301509Z"
    }
   },
   "outputs": [],
   "source": [
    "%load_ext autoreload\n",
    "%autoreload 2"
   ]
  },
  {
   "cell_type": "code",
   "execution_count": 3,
   "id": "8aeb46ad",
   "metadata": {
    "ExecuteTime": {
     "end_time": "2022-09-23T03:24:02.064022Z",
     "start_time": "2022-09-23T03:23:12.112513Z"
    }
   },
   "outputs": [
    {
     "name": "stderr",
     "output_type": "stream",
     "text": [
      "2022-09-22 23:23:20.732854: W tensorflow/stream_executor/platform/default/dso_loader.cc:64] Could not load dynamic library 'libcudart.so.11.0'; dlerror: libcudart.so.11.0: cannot open shared object file: No such file or directory; LD_LIBRARY_PATH: /usr/local/nvidia/lib:/usr/local/nvidia/lib64:/.singularity.d/libs\n",
      "2022-09-22 23:23:20.732897: I tensorflow/stream_executor/cuda/cudart_stub.cc:29] Ignore above cudart dlerror if you do not have a GPU set up on your machine.\n",
      "Matplotlib is building the font cache; this may take a moment.\n"
     ]
    }
   ],
   "source": [
    "import os\n",
    "import sys\n",
    "from tqdm.auto import tqdm\n",
    "import matplotlib.pyplot as plt\n",
    "import matplotlib as mpl\n",
    "from matplotlib import patches as pat\n",
    "from matplotlib import transforms\n",
    "from matplotlib import colors\n",
    "from matplotlib.collections import PatchCollection\n",
    "import numpy as np\n",
    "import pandas as pd\n",
    "import seaborn as sns\n",
    "import tensorflow as tf\n",
    "from joblib import load, dump\n",
    "import re\n",
    "import time\n",
    "import scipy.cluster.hierarchy as sch\n",
    "from scipy.signal import find_peaks\n",
    "\n",
    "# custom code\n",
    "import figutils\n",
    "sys.path.insert(\n",
    "    0, os.path.abspath('../2021_07_31_custom_adjacency_regularization/'))\n",
    "import sequence_logo\n",
    "from quad_model import *\n",
    "import kl\n",
    "import force\n",
    "\n",
    "from typing import Iterable\n",
    "from IPython.display import Image, display, SVG\n",
    "import pygraphviz as pgv\n",
    "\n",
    "from collections.abc import Iterable\n",
    "import einops\n",
    "\n",
    "%matplotlib inline"
   ]
  },
  {
   "cell_type": "code",
   "execution_count": 4,
   "id": "1f23c96b",
   "metadata": {
    "ExecuteTime": {
     "end_time": "2022-09-23T03:24:03.951477Z",
     "start_time": "2022-09-23T03:24:02.412548Z"
    }
   },
   "outputs": [],
   "source": [
    "from selenium import webdriver\n",
    "\n",
    "from selenium.webdriver.firefox.service import Service\n",
    "from selenium.webdriver.firefox.options import Options\n",
    "from selenium.webdriver.support.ui import WebDriverWait\n",
    "\n",
    "from selenium.webdriver.common.by import By\n",
    "from bs4 import BeautifulSoup"
   ]
  },
  {
   "cell_type": "code",
   "execution_count": 5,
   "id": "1d0ff7d5",
   "metadata": {
    "ExecuteTime": {
     "end_time": "2022-09-23T03:24:04.576013Z",
     "start_time": "2022-09-23T03:24:04.257253Z"
    }
   },
   "outputs": [],
   "source": [
    "plt.style.use('clean.mplstyle')"
   ]
  },
  {
   "cell_type": "markdown",
   "id": "c35ed9cc",
   "metadata": {},
   "source": [
    "# Load data and models"
   ]
  },
  {
   "cell_type": "code",
   "execution_count": 6,
   "id": "7d5e3a7e",
   "metadata": {
    "ExecuteTime": {
     "end_time": "2022-09-23T03:24:14.003512Z",
     "start_time": "2022-09-23T03:24:04.919301Z"
    }
   },
   "outputs": [],
   "source": [
    "xTr = load(os.path.join(data_folder, f'xTr_ES7_HeLa_ABC.pkl'))\n",
    "yTr = load(os.path.join(data_folder, f'yTr_ES7_HeLa_ABC.pkl'))\n",
    "xTe = load(os.path.join(data_folder, f'xTe_ES7_HeLa_ABC.pkl'))\n",
    "yTe = load(os.path.join(data_folder, f'yTe_ES7_HeLa_ABC.pkl'))"
   ]
  },
  {
   "cell_type": "code",
   "execution_count": 7,
   "id": "13851983",
   "metadata": {
    "ExecuteTime": {
     "end_time": "2022-09-23T03:30:35.297008Z",
     "start_time": "2022-09-23T03:30:31.481696Z"
    }
   },
   "outputs": [
    {
     "name": "stderr",
     "output_type": "stream",
     "text": [
      "2022-09-22 23:30:31.923264: W tensorflow/stream_executor/platform/default/dso_loader.cc:64] Could not load dynamic library 'libcuda.so.1'; dlerror: libcuda.so.1: cannot open shared object file: No such file or directory; LD_LIBRARY_PATH: /usr/local/nvidia/lib:/usr/local/nvidia/lib64:/.singularity.d/libs\n",
      "2022-09-22 23:30:31.923304: W tensorflow/stream_executor/cuda/cuda_driver.cc:269] failed call to cuInit: UNKNOWN ERROR (303)\n",
      "2022-09-22 23:30:31.923320: I tensorflow/stream_executor/cuda/cuda_diagnostics.cc:156] kernel driver does not appear to be running on this host (cm001.hpc.nyu.edu): /proc/driver/nvidia/version does not exist\n",
      "2022-09-22 23:30:31.923506: I tensorflow/core/platform/cpu_feature_guard.cc:142] This TensorFlow binary is optimized with oneAPI Deep Neural Network Library (oneDNN) to use the following CPU instructions in performance-critical operations:  AVX2 AVX512F FMA\n",
      "To enable them in other operations, rebuild TensorFlow with the appropriate compiler flags.\n"
     ]
    }
   ],
   "source": [
    "model_fname = model_h5_file_location\n",
    "model = tf.keras.models.load_model(model_fname)"
   ]
  },
  {
   "cell_type": "code",
   "execution_count": 8,
   "id": "2e14fd62",
   "metadata": {
    "ExecuteTime": {
     "end_time": "2022-09-23T03:30:36.007076Z",
     "start_time": "2022-09-23T03:30:35.660751Z"
    }
   },
   "outputs": [],
   "source": [
    "num_seq_filters = model.get_layer('qc_incl').kernel.shape[2]\n",
    "num_struct_filters = model.get_layer('c_incl_struct').kernel.shape[2]\n",
    "\n",
    "position_bias_size = model.get_layer('position_bias_incl').kernel.shape[0]\n",
    "struct_filter_width = model.get_layer(\"c_incl_struct\").kernel.shape[0]\n",
    "input_length = model.input[0].shape[1]"
   ]
  },
  {
   "cell_type": "markdown",
   "id": "219c613e",
   "metadata": {},
   "source": [
    "# Compute activations"
   ]
  },
  {
   "cell_type": "code",
   "execution_count": 9,
   "id": "91c4fbd7",
   "metadata": {
    "ExecuteTime": {
     "end_time": "2022-09-23T03:30:47.059997Z",
     "start_time": "2022-09-23T03:30:46.795619Z"
    }
   },
   "outputs": [],
   "source": [
    "structure_out_model = Model(inputs=model.inputs, outputs=[\n",
    "    model.get_layer('activation_2').output,\n",
    "    model.get_layer('activation_3').output\n",
    "])"
   ]
  },
  {
   "cell_type": "markdown",
   "id": "d81da84f",
   "metadata": {},
   "source": [
    "# Compute secondary structure peaks"
   ]
  },
  {
   "cell_type": "code",
   "execution_count": 11,
   "id": "ddaa802d",
   "metadata": {
    "ExecuteTime": {
     "end_time": "2022-09-23T03:30:52.089148Z",
     "start_time": "2022-09-23T03:30:51.841529Z"
    }
   },
   "outputs": [],
   "source": [
    "# only includes skipping filters\n",
    "loop_filters = np.array([0, 3, 2])"
   ]
  },
  {
   "cell_type": "code",
   "execution_count": 12,
   "id": "8acefecb",
   "metadata": {
    "ExecuteTime": {
     "end_time": "2022-09-23T03:30:55.322206Z",
     "start_time": "2022-09-23T03:30:55.142480Z"
    }
   },
   "outputs": [],
   "source": [
    "def is_far_enough_from_edge(n, exon_boundary_dist=20, len_seq=90):\n",
    "    return n - exon_boundary_dist >= 0 and len_seq - exon_boundary_dist >= n"
   ]
  },
  {
   "cell_type": "code",
   "execution_count": 13,
   "id": "4fc204fc",
   "metadata": {
    "ExecuteTime": {
     "end_time": "2022-09-23T03:30:56.028043Z",
     "start_time": "2022-09-23T03:30:55.717228Z"
    }
   },
   "outputs": [],
   "source": [
    "def pad_string_idx(x, peak_hint, window, prefix_pad, suffix_pad):\n",
    "    idxs = np.array([np.nan] * prefix_pad + list(range(len(x))) + [np.nan] * suffix_pad)\n",
    "    padded_str = ('-' * prefix_pad + x + '-' * suffix_pad)\n",
    "    return idxs, padded_str"
   ]
  },
  {
   "cell_type": "code",
   "execution_count": 14,
   "id": "a12d4b3d",
   "metadata": {
    "ExecuteTime": {
     "end_time": "2022-09-23T03:30:56.705082Z",
     "start_time": "2022-09-23T03:30:56.385175Z"
    }
   },
   "outputs": [],
   "source": [
    "def localize_loop(x, peak_hint, window=10, prefix_pad=2, suffix_pad=3):\n",
    "    idxs, padded_x = pad_string_idx(x, peak_hint, window, prefix_pad, suffix_pad)\n",
    "    trimmed_region = padded_x[peak_hint-window:peak_hint+window]\n",
    "    trimmed_idxs = idxs[peak_hint-window:peak_hint+window]\n",
    "    \n",
    "    e = trimmed_region\n",
    "    a = trimmed_idxs\n",
    "    \n",
    "    A, B = idxs, padded_x\n",
    "    \n",
    "    left_idx = peak_hint\n",
    "    right_idx = peak_hint\n",
    "    \n",
    "    left_bracket_encountered = right_bracket_encountered = False\n",
    "    left_finished = right_finished = False\n",
    "\n",
    "    while not left_finished:\n",
    "        if left_idx < 0:\n",
    "            raise RuntimeError('No end found')\n",
    "        if B[left_idx] == '(':\n",
    "            left_bracket_encountered = True\n",
    "            left_finished = True\n",
    "        else:\n",
    "            left_idx -= 1\n",
    "\n",
    "    while not right_finished:\n",
    "        if right_idx >= len(B):\n",
    "            raise RuntimeError('No end found')\n",
    "        if B[right_idx] == ')':\n",
    "            right_bracket_encountered = True\n",
    "            right_finished = True\n",
    "        else:\n",
    "            right_idx += 1\n",
    "    right_idx += 1\n",
    "    \n",
    "    left_idx_start = left_idx\n",
    "    right_idx_start = right_idx\n",
    "    \n",
    "    while True:\n",
    "        if left_idx < 0 or right_idx >= len(B):\n",
    "            raise RuntimeError('No end found')\n",
    "        if B[left_idx] != '(' or B[right_idx] != ')':\n",
    "            break\n",
    "        else:\n",
    "            left_idx -= 1\n",
    "            right_idx += 1\n",
    "    \n",
    "    return A[left_idx:left_idx_start+1], A[right_idx_start-1:right_idx]"
   ]
  },
  {
   "cell_type": "code",
   "execution_count": 15,
   "id": "9104b9b8",
   "metadata": {
    "ExecuteTime": {
     "end_time": "2022-09-23T03:31:04.764350Z",
     "start_time": "2022-09-23T03:31:04.537663Z"
    }
   },
   "outputs": [],
   "source": [
    "def augment_position(seq, pos, alphabet={'A', 'C', 'G', 'U'}):\n",
    "    remaining_alphabet = alphabet - {seq[pos]}\n",
    "    out = []\n",
    "    for e in remaining_alphabet:\n",
    "        seq_copy = list(str(seq))\n",
    "        seq_copy[pos] = e\n",
    "        out.append(''.join(seq_copy))\n",
    "    return out"
   ]
  },
  {
   "cell_type": "code",
   "execution_count": 16,
   "id": "72712229",
   "metadata": {
    "ExecuteTime": {
     "end_time": "2022-09-23T03:31:06.480011Z",
     "start_time": "2022-09-23T03:31:06.280487Z"
    }
   },
   "outputs": [],
   "source": [
    "def compute_aug_seq_acts(seq, pos, structure_acts_model):\n",
    "    aug_seqs = augment_position(seq, pos)\n",
    "    aug_seqs_input = figutils.create_input_data(aug_seqs)\n",
    "    \n",
    "    return structure_acts_model.predict(aug_seqs_input).sum(axis=-1)"
   ]
  },
  {
   "cell_type": "code",
   "execution_count": 17,
   "id": "01b8b89f",
   "metadata": {
    "ExecuteTime": {
     "end_time": "2022-09-23T03:31:07.175033Z",
     "start_time": "2022-09-23T03:31:06.844908Z"
    }
   },
   "outputs": [],
   "source": [
    "def compute_aug_seq_acts_batch(seq, structure_acts_model):\n",
    "    all_augs = [augment_position(seq, pos) for pos, _ in enumerate(seq)]\n",
    "    all_augs_flat = [e for a in all_augs for e in a]\n",
    "    all_augs_flat_input = figutils.create_input_data(all_augs_flat)\n",
    "    struct_preds = structure_acts_model.predict(all_augs_flat_input).sum(axis=-1)\n",
    "    \n",
    "    out = []\n",
    "    ctr = 0\n",
    "    for e in all_augs:\n",
    "        out.append(\n",
    "            struct_preds[ctr:ctr+len(e)]\n",
    "        )\n",
    "        ctr += len(e)\n",
    "    return out"
   ]
  },
  {
   "cell_type": "code",
   "execution_count": 18,
   "id": "d6fcc59b",
   "metadata": {
    "ExecuteTime": {
     "end_time": "2022-09-23T03:31:07.866035Z",
     "start_time": "2022-09-23T03:31:07.517938Z"
    }
   },
   "outputs": [],
   "source": [
    "def compute_aug_seq_acts_batches(seqs, structure_acts_model):\n",
    "    all_augs = [[augment_position(seq, pos) for pos, _ in enumerate(seq)] for seq in tqdm(seqs, leave=False)]\n",
    "    all_augs_flat = [e for b in all_augs for a in b for e in a]\n",
    "    all_augs_flat_input = figutils.create_input_data(all_augs_flat)\n",
    "    struct_preds = structure_acts_model.predict(all_augs_flat_input).sum(axis=-1)\n",
    "    \n",
    "    return struct_preds.reshape(len(seqs), -1, 3)\n",
    "    \n",
    "    # print(len(all_augs_flat))"
   ]
  },
  {
   "cell_type": "code",
   "execution_count": 19,
   "id": "44dc7aae",
   "metadata": {
    "ExecuteTime": {
     "end_time": "2022-09-23T03:31:08.524043Z",
     "start_time": "2022-09-23T03:31:08.198599Z"
    }
   },
   "outputs": [],
   "source": [
    "def compute_baseline_act(seq, structure_acts_model):\n",
    "    return structure_acts_model.predict(figutils.create_input_data([seq])).sum(axis=-1)"
   ]
  },
  {
   "cell_type": "code",
   "execution_count": 20,
   "id": "8f41df36",
   "metadata": {
    "ExecuteTime": {
     "end_time": "2022-09-23T03:31:09.185149Z",
     "start_time": "2022-09-23T03:31:08.870126Z"
    }
   },
   "outputs": [],
   "source": [
    "def compute_baseline_acts(seqs, structure_acts_model):\n",
    "    return structure_acts_model.predict(figutils.create_input_data(seqs)).sum(axis=-1)"
   ]
  },
  {
   "cell_type": "code",
   "execution_count": 21,
   "id": "636110b5",
   "metadata": {
    "ExecuteTime": {
     "end_time": "2022-09-23T03:31:09.844114Z",
     "start_time": "2022-09-23T03:31:09.522188Z"
    }
   },
   "outputs": [],
   "source": [
    "def compute_aug_seq_acts_diff(seq, structure_acts_model, pad=True):\n",
    "    assert isinstance(seq, str)\n",
    "    baseline_act = compute_baseline_act(seq, structure_acts_model)\n",
    "    \n",
    "    aug_seq_acts = compute_aug_seq_acts_batch(seq, structure_acts_model)\n",
    "    \n",
    "    out = np.stack(aug_seq_acts)\n",
    "\n",
    "    out = np.abs(baseline_act - out).mean(axis=-1)\n",
    "    if not pad:\n",
    "        return out\n",
    "    \n",
    "    return np.pad(out, pad_width=[(0, 5)], mode='constant', constant_values=0)"
   ]
  },
  {
   "cell_type": "code",
   "execution_count": 22,
   "id": "6862bd66",
   "metadata": {
    "ExecuteTime": {
     "end_time": "2022-09-23T03:31:10.510039Z",
     "start_time": "2022-09-23T03:31:10.222738Z"
    }
   },
   "outputs": [],
   "source": [
    "def compute_aug_seqs_acts_diff(seqs, structure_acts_model, pad=False):\n",
    "    assert isinstance(seqs, Iterable)\n",
    "    baseline_acts = compute_baseline_acts(seqs, structure_acts_model)\n",
    "    \n",
    "    out = compute_aug_seq_acts_batches(seqs, structure_acts_model)\n",
    "\n",
    "    out = np.abs(baseline_acts[:, None, None] - out).mean(axis=-1)\n",
    "    if not pad:\n",
    "        return out\n",
    "    \n",
    "    return np.pad(out, pad_width=[(0, 5)], mode='constant', constant_values=0)"
   ]
  },
  {
   "cell_type": "code",
   "execution_count": 23,
   "id": "7545f5e6",
   "metadata": {
    "ExecuteTime": {
     "end_time": "2022-09-23T03:31:11.211009Z",
     "start_time": "2022-09-23T03:31:10.888220Z"
    }
   },
   "outputs": [],
   "source": [
    "def print_formatted_sensitivities(sensitivities):\n",
    "    for e in sensitivities:\n",
    "        print(np.round(e, decimals=3), end=' ')\n",
    "    print()"
   ]
  },
  {
   "cell_type": "code",
   "execution_count": 24,
   "id": "88320bf0",
   "metadata": {
    "ExecuteTime": {
     "end_time": "2022-09-23T03:31:11.847013Z",
     "start_time": "2022-09-23T03:31:11.543163Z"
    }
   },
   "outputs": [],
   "source": [
    "def print_peak_hint(pos, n):\n",
    "    s1 = ' '*pos + '|' + ' ' * (n - 2 - pos)\n",
    "    s2 = ' '*pos + 'V' + ' ' * (n - 2 - pos)\n",
    "    print(s1)\n",
    "    print(s2)"
   ]
  },
  {
   "cell_type": "code",
   "execution_count": 25,
   "id": "8f018736",
   "metadata": {
    "ExecuteTime": {
     "end_time": "2022-09-23T03:31:12.528043Z",
     "start_time": "2022-09-23T03:31:12.233615Z"
    }
   },
   "outputs": [],
   "source": [
    "def normalize(x):\n",
    "    if len(x.shape) == 1:\n",
    "        return np.array(x) / np.array(x).max()\n",
    "    if len(x.shape) == 2:\n",
    "        return np.array(x) / np.array(x).max(axis=-1)[:, None]\n",
    "    raise NotImplementedError('eee')"
   ]
  },
  {
   "cell_type": "code",
   "execution_count": 26,
   "id": "96b52fce",
   "metadata": {
    "ExecuteTime": {
     "end_time": "2022-09-23T03:31:13.407045Z",
     "start_time": "2022-09-23T03:31:12.887112Z"
    }
   },
   "outputs": [],
   "source": [
    "structure_acts_model = Model(inputs=model.inputs, outputs=[\n",
    "    sum([model.get_layer('activation_3').output[..., num_seq_filters + lfi]\n",
    "        for lfi in loop_filters])\n",
    "])"
   ]
  },
  {
   "cell_type": "code",
   "execution_count": 27,
   "id": "19b037a6",
   "metadata": {
    "ExecuteTime": {
     "end_time": "2022-09-23T03:31:20.825055Z",
     "start_time": "2022-09-23T03:31:20.520472Z"
    }
   },
   "outputs": [],
   "source": [
    "structure_intermediate_outputs_model = Model(inputs=model.inputs, outputs=[\n",
    "    model.get_layer('c_skip_struct').output,\n",
    "    model.get_layer('position_bias_skip_struct').output,\n",
    "    model.get_layer('concatenate_2').output,\n",
    "    model.get_layer('activation_3').output,\n",
    "])"
   ]
  },
  {
   "cell_type": "code",
   "execution_count": 28,
   "id": "bd90296e",
   "metadata": {
    "ExecuteTime": {
     "end_time": "2022-09-23T03:31:21.895216Z",
     "start_time": "2022-09-23T03:31:21.699527Z"
    }
   },
   "outputs": [],
   "source": [
    "def softplus(x):\n",
    "    return np.log(1 + np.exp(x))"
   ]
  },
  {
   "cell_type": "code",
   "execution_count": 29,
   "id": "25e53f88",
   "metadata": {
    "ExecuteTime": {
     "end_time": "2022-09-23T03:31:22.591009Z",
     "start_time": "2022-09-23T03:31:22.263712Z"
    }
   },
   "outputs": [],
   "source": [
    "def sum_to_one(x):\n",
    "    assert (x >= 0).all()\n",
    "    return x / x.sum()"
   ]
  },
  {
   "cell_type": "code",
   "execution_count": 30,
   "id": "12f24a1f",
   "metadata": {
    "ExecuteTime": {
     "end_time": "2022-09-23T03:31:23.235036Z",
     "start_time": "2022-09-23T03:31:22.933924Z"
    }
   },
   "outputs": [],
   "source": [
    "def relu(x):\n",
    "    return np.maximum(0, x)"
   ]
  },
  {
   "cell_type": "code",
   "execution_count": 31,
   "id": "0798927c",
   "metadata": {
    "ExecuteTime": {
     "end_time": "2022-09-23T03:31:23.949004Z",
     "start_time": "2022-09-23T03:31:23.609232Z"
    }
   },
   "outputs": [],
   "source": [
    "def compute_contrib(seq, peak_hint, model, struct_activation_offset=2):\n",
    "    inps = figutils.create_input_data([seq])\n",
    "    inps_cat = np.concatenate(inps, axis=-1)\n",
    "\n",
    "    cW, cB = model.get_layer('c_skip_struct').get_weights()\n",
    "    pW, = model.get_layer('position_bias_skip_struct').get_weights()\n",
    "\n",
    "    kernel_size, num_channels, num_filters = cW.shape\n",
    "\n",
    "    b = tf.expand_dims(inps_cat, axis=(2,))\n",
    "    v = tf.image.extract_patches(\n",
    "                b,\n",
    "                sizes=[1, cW.shape[0], 1, 1],\n",
    "                strides=[1, 1, 1, 1],\n",
    "                rates=[1, 1, 1, 1],\n",
    "                padding=\"SAME\",\n",
    "            )\n",
    "    w = tf.squeeze(v, axis=2).numpy().reshape(-1, inps_cat.shape[1], kernel_size, num_filters)\n",
    "    # tmp = np.einsum('abcd,cde->abcde', w, cW).sum(axis=-2)[..., loop_filters][:, peak_hint + struct_activation_offset].sum(axis=-1)\n",
    "    tmp2 = np.einsum('abcd,cde->abcde', w, cW) + (cB / (kernel_size * num_channels)).reshape(1, 1, 1, 1, num_filters)\n",
    "    tmp3 = tmp2 + (pW / (kernel_size * num_channels)).reshape(1, input_length, 1, 1, num_filters)\n",
    "    \n",
    "    offset = 10\n",
    "    assert offset != 0\n",
    "    saliency_location = tf.image.extract_patches(\n",
    "                (offset + np.arange(inps_cat.shape[1])).reshape(1, -1, 1, 1),\n",
    "                sizes=[1, kernel_size, 1, 1],\n",
    "                strides=[1, 1, 1, 1],\n",
    "                rates=[1, 1, 1, 1],\n",
    "                padding=\"SAME\",\n",
    "            ).numpy().squeeze(axis=(0, 2))[struct_activation_offset+peak_hint]\n",
    "    saliency_location = saliency_location.astype(float)\n",
    "    saliency_location[saliency_location == 0] = np.nan\n",
    "    saliency_location -= offset\n",
    "\n",
    "    return tmp3, saliency_location\n",
    "    \n",
    "    \n",
    "def compute_saliency(seq, peak_hint, model, loop_filters, struct_activation_offset=2):\n",
    "    pos_bias_out, saliency_location = compute_contrib(seq, peak_hint, model,\n",
    "                                                      struct_activation_offset=struct_activation_offset)\n",
    "    pos_bias_loop = pos_bias_out[:, struct_activation_offset+peak_hint][..., loop_filters]\n",
    "    filter_selector = (np.einsum('n w c f -> f', pos_bias_loop) > 0)\n",
    "    print(loop_filters[filter_selector])\n",
    "    sal_raw = np.einsum('n w c f -> w', pos_bias_loop[..., filter_selector])\n",
    "    sal = fill_array(saliency_location, sal_raw)\n",
    "    \n",
    "    return sal"
   ]
  },
  {
   "cell_type": "code",
   "execution_count": 32,
   "id": "dd84924d",
   "metadata": {
    "ExecuteTime": {
     "end_time": "2022-09-23T03:31:33.146031Z",
     "start_time": "2022-09-23T03:31:32.935498Z"
    }
   },
   "outputs": [],
   "source": [
    "def fill_array(indices, values, max_len=90):\n",
    "    out = np.zeros(max_len)\n",
    "    \n",
    "    for i, v in zip(indices, values):\n",
    "        out[int(i)] = v\n",
    "    return out\n",
    "\n",
    "def relu(x):\n",
    "    return np.maximum(0, x)"
   ]
  },
  {
   "cell_type": "code",
   "execution_count": 34,
   "id": "60b0b1d6",
   "metadata": {
    "ExecuteTime": {
     "end_time": "2022-09-23T03:33:56.125214Z",
     "start_time": "2022-09-23T03:33:55.890537Z"
    }
   },
   "outputs": [],
   "source": [
    "def get_browser():\n",
    "    service = Service(executable_path=geckodriver_path)\n",
    "    \n",
    "    options = Options()\n",
    "    options.binary_location = firefox_binary_path\n",
    "\n",
    "    options.set_preference(\"browser.download.folderList\", 2)\n",
    "    options.set_preference(\"browser.download.manager.showWhenStarting\", False)\n",
    "    options.set_preference(\"browser.download.dir\", data_folder)\n",
    "    options.set_preference(\"browser.helperApps.neverAsk.saveToDisk\", \"image/svg+xml\")\n",
    "    \n",
    "    options.add_argument('--headless')\n",
    "    \n",
    "    browser = webdriver.Firefox(options=options, service=service)\n",
    "    \n",
    "    return browser"
   ]
  },
  {
   "cell_type": "code",
   "execution_count": 35,
   "id": "1dff65f4",
   "metadata": {
    "ExecuteTime": {
     "end_time": "2022-09-23T03:34:00.785003Z",
     "start_time": "2022-09-23T03:34:00.586662Z"
    }
   },
   "outputs": [],
   "source": [
    "def get_forna_url(seq, seq_ss):\n",
    "    return f'http://nibiru.tbi.univie.ac.at/forna/forna.html?id=url/name&sequence={seq}&structure={seq_ss}'"
   ]
  },
  {
   "cell_type": "code",
   "execution_count": 36,
   "id": "63d2d628",
   "metadata": {
    "ExecuteTime": {
     "end_time": "2022-09-23T03:34:01.470200Z",
     "start_time": "2022-09-23T03:34:01.154151Z"
    }
   },
   "outputs": [],
   "source": [
    "def create_svg_soup(svg_string):\n",
    "    soup = BeautifulSoup(svg_string,'xml')\n",
    "    \n",
    "    soup.find('svg')['xmlns:xlink'] = \"http://www.w3.org/1999/xlink\"\n",
    "    soup.find('svg')['xmlns'] = \"http://www.w3.org/2000/svg\"\n",
    "    \n",
    "    return soup"
   ]
  },
  {
   "cell_type": "code",
   "execution_count": 37,
   "id": "cb9bc7be",
   "metadata": {
    "ExecuteTime": {
     "end_time": "2022-09-23T03:34:02.135047Z",
     "start_time": "2022-09-23T03:34:01.832103Z"
    }
   },
   "outputs": [],
   "source": [
    "def get_svg_object(seq, seq_ss, browser):\n",
    "    forna_url = get_forna_url(seq, seq_ss)\n",
    "\n",
    "    browser.get(forna_url)\n",
    "    time.sleep(3)\n",
    "    \n",
    "    svg = browser.find_element(by=By.TAG_NAME, value='svg')\n",
    "    return create_svg_soup(svg.get_attribute('outerHTML'))"
   ]
  },
  {
   "cell_type": "code",
   "execution_count": 38,
   "id": "ba7c6ed7",
   "metadata": {
    "ExecuteTime": {
     "end_time": "2022-09-23T03:34:03.321059Z",
     "start_time": "2022-09-23T03:34:03.081475Z"
    }
   },
   "outputs": [],
   "source": [
    "def color_nucleotides(svg_object, colors):\n",
    "    nucleotides = [e for e in svg_object.find_all(name='circle') if e['class'] == 'node' and e['node_type'] == 'nucleotide']\n",
    "    \n",
    "    assert len(nucleotides) == len(colors)\n",
    "    \n",
    "    for nt, color in zip(nucleotides, colors):\n",
    "        nt['style'] = f\"fill: {color};\"\n",
    "    \n",
    "    return svg_object"
   ]
  },
  {
   "cell_type": "code",
   "execution_count": 39,
   "id": "c31a1895",
   "metadata": {
    "ExecuteTime": {
     "end_time": "2022-09-23T03:34:03.975069Z",
     "start_time": "2022-09-23T03:34:03.677347Z"
    }
   },
   "outputs": [],
   "source": [
    "def saliency_to_hex(saliency, cm=plt.cm.Reds, scaling_fn=normalize): \n",
    "    snorm = scaling_fn(seq_saliency)\n",
    "    \n",
    "    return [colors.to_hex(cm(c)[:3]).upper() for c in snorm]"
   ]
  },
  {
   "cell_type": "code",
   "execution_count": 40,
   "id": "4d8b949a",
   "metadata": {
    "ExecuteTime": {
     "end_time": "2022-09-23T03:34:04.651062Z",
     "start_time": "2022-09-23T03:34:04.392446Z"
    }
   },
   "outputs": [],
   "source": [
    "def rescale(a, mn, mx):\n",
    "    return np.interp(a, (a.min(), a.max()), (mn, mx))"
   ]
  },
  {
   "cell_type": "code",
   "execution_count": 41,
   "id": "2188126b",
   "metadata": {
    "ExecuteTime": {
     "end_time": "2022-09-23T03:34:33.207834Z",
     "start_time": "2022-09-23T03:34:07.179503Z"
    }
   },
   "outputs": [],
   "source": [
    "browser = get_browser()"
   ]
  },
  {
   "cell_type": "code",
   "execution_count": 42,
   "id": "d7b2e25c",
   "metadata": {
    "ExecuteTime": {
     "end_time": "2022-09-23T03:34:34.126462Z",
     "start_time": "2022-09-23T03:34:33.724978Z"
    }
   },
   "outputs": [],
   "source": [
    "raw_exons_to_plot = {\n",
    "    '2c1':'GAGTCCCGCTTACCATTGCATTTAAGAAAGCGGCCATACGCCGCTAAGACCCTACTCTTCAGAATACCAG',\n",
    "    '2c4':'TCGCTCTCTAAAAAAGTCACCTACTTAACACGACGTGCCTCCGTGGCACGAAAATAAACCACTAAGAAAA',\n",
    "    '2c5':'TCTGCCCCTACACACAGGCACCTCGGCGATCGCCCGGGACACATCCGGGCCCTTGTTTCTATTCCGCCTC',\n",
    "    '2c6':'ACGGAACCGCCTGTCGGTTCCCACCCGTCTACCATGCACATACTCCTCTTTTTTGACCCGAAAACCTCCA'\n",
    "}"
   ]
  },
  {
   "cell_type": "code",
   "execution_count": 43,
   "id": "13833636",
   "metadata": {
    "ExecuteTime": {
     "end_time": "2022-09-23T03:34:35.001151Z",
     "start_time": "2022-09-23T03:34:34.631453Z"
    }
   },
   "outputs": [],
   "source": [
    "padded_exons = [\n",
    "    figutils.add_flanking(e.replace('T', 'U'), 10) for e in raw_exons_to_plot.values()\n",
    "]"
   ]
  },
  {
   "cell_type": "code",
   "execution_count": 44,
   "id": "5ca0d4c4",
   "metadata": {
    "ExecuteTime": {
     "end_time": "2022-09-23T03:34:38.536606Z",
     "start_time": "2022-09-23T03:34:35.452093Z"
    }
   },
   "outputs": [
    {
     "name": "stderr",
     "output_type": "stream",
     "text": [
      "2022-09-22 23:34:36.710271: I tensorflow/compiler/mlir/mlir_graph_optimization_pass.cc:185] None of the MLIR Optimization Passes are enabled (registered 2)\n"
     ]
    },
    {
     "name": "stdout",
     "output_type": "stream",
     "text": [
      "1/1 [==============================] - 2s 2s/step\n"
     ]
    }
   ],
   "source": [
    "exons_to_plot_data = figutils.create_input_data(padded_exons)\n",
    "exons_incl_act, exons_skip_act = structure_out_model.predict(exons_to_plot_data, verbose=1)\n",
    "exons_peak_hints = [find_peaks(exon_row, height=2)[\n",
    "    0][0] for exon_row in exons_skip_act[..., num_seq_filters + loop_filters].sum(axis=2)]"
   ]
  },
  {
   "cell_type": "code",
   "execution_count": 45,
   "id": "b3b096f2",
   "metadata": {
    "ExecuteTime": {
     "end_time": "2022-09-23T03:35:01.912059Z",
     "start_time": "2022-09-23T03:34:38.952073Z"
    }
   },
   "outputs": [
    {
     "data": {
      "application/vnd.jupyter.widget-view+json": {
       "model_id": "3c4ed5ee23ea4764b6c83486da75d488",
       "version_major": 2,
       "version_minor": 0
      },
      "text/plain": [
       "  0%|          | 0/4 [00:00<?, ?it/s]"
      ]
     },
     "metadata": {},
     "output_type": "display_data"
    },
    {
     "name": "stdout",
     "output_type": "stream",
     "text": [
      "[0 2]\n",
      "[0 2]\n",
      "[0 2]\n",
      "[0 2]\n",
      "[]\n",
      "[0 2]\n",
      "[0]\n",
      "[0]\n",
      "[0]\n",
      "[0]\n",
      "[0]\n",
      "[0]\n"
     ]
    }
   ],
   "source": [
    "seq_saliencies = []\n",
    "\n",
    "for seq, peak_hint in zip(tqdm(padded_exons), exons_peak_hints):\n",
    "    seq_ss = figutils.compute_structure([seq])[1][0]\n",
    "    seq_saliency = compute_saliency(seq, peak_hint, model, loop_filters) + compute_saliency(seq, peak_hint-1, model, loop_filters) + compute_saliency(seq, peak_hint+1, model, loop_filters)\n",
    "    seq_saliencies.append(seq_saliency)"
   ]
  },
  {
   "cell_type": "code",
   "execution_count": 46,
   "id": "da8b467b",
   "metadata": {
    "ExecuteTime": {
     "end_time": "2022-09-23T03:35:02.687093Z",
     "start_time": "2022-09-23T03:35:02.402205Z"
    }
   },
   "outputs": [],
   "source": [
    "norm = colors.TwoSlopeNorm(0, np.min(seq_saliencies), np.max(seq_saliencies))"
   ]
  },
  {
   "cell_type": "code",
   "execution_count": 47,
   "id": "730e7551",
   "metadata": {
    "ExecuteTime": {
     "end_time": "2022-09-23T03:35:37.489617Z",
     "start_time": "2022-09-23T03:35:03.202907Z"
    }
   },
   "outputs": [
    {
     "data": {
      "application/vnd.jupyter.widget-view+json": {
       "model_id": "2bbf39854d4f478ebde0e8ebf4ddf63a",
       "version_major": 2,
       "version_minor": 0
      },
      "text/plain": [
       "  0%|          | 0/4 [00:00<?, ?it/s]"
      ]
     },
     "metadata": {},
     "output_type": "display_data"
    }
   ],
   "source": [
    "ctr = 0\n",
    "for seq, seq_saliency in zip(tqdm(padded_exons), seq_saliencies):\n",
    "    seq_ss = figutils.compute_structure([seq])[1][0]\n",
    "    \n",
    "    svg_object = get_svg_object(seq, seq_ss, browser)\n",
    "    svg_saliency_hex_colors = saliency_to_hex(seq_saliency, cm=plt.cm.bwr, scaling_fn=lambda x: norm(x).data)\n",
    "    svg_object_colored = color_nucleotides(svg_object, svg_saliency_hex_colors)\n",
    "    \n",
    "    with open(f\"./figs/ss_{ctr}.svg\", \"w\") as file:\n",
    "        file.write(svg_object_colored.prettify())\n",
    "    \n",
    "    ctr += 1"
   ]
  },
  {
   "cell_type": "code",
   "execution_count": 48,
   "id": "23d53f55",
   "metadata": {
    "ExecuteTime": {
     "end_time": "2022-09-23T03:35:38.966511Z",
     "start_time": "2022-09-23T03:35:38.551211Z"
    }
   },
   "outputs": [],
   "source": [
    "def simpleaxis(ax):\n",
    "    ax.spines['top'].set_visible(False)\n",
    "    ax.spines['right'].set_visible(False)\n",
    "    ax.spines['left'].set_visible(False)\n",
    "    ax.get_xaxis().tick_bottom()\n",
    "    ax.get_yaxis().tick_left()\n",
    "    ax.set_yticks([])"
   ]
  },
  {
   "cell_type": "code",
   "execution_count": 49,
   "id": "3ebbe30b",
   "metadata": {
    "ExecuteTime": {
     "end_time": "2022-09-23T03:35:43.970620Z",
     "start_time": "2022-09-23T03:35:39.977839Z"
    }
   },
   "outputs": [
    {
     "name": "stderr",
     "output_type": "stream",
     "text": [
      "findfont: Font family ['sans-serif'] not found. Falling back to DejaVu Sans.\n",
      "findfont: Generic family 'sans-serif' not found because none of the following families were found: Arial\n",
      "findfont: Font family ['sans-serif'] not found. Falling back to DejaVu Sans.\n",
      "findfont: Generic family 'sans-serif' not found because none of the following families were found: Arial\n"
     ]
    },
    {
     "name": "stdout",
     "output_type": "stream",
     "text": [
      "[28, 428, 828, 1228, 1628]\n"
     ]
    },
    {
     "data": {
      "image/png": "[encoded data removed]",
      "text/plain": [
       "<Figure size 750x125 with 1 Axes>"
      ]
     },
     "metadata": {
      "needs_background": "light"
     },
     "output_type": "display_data"
    }
   ],
   "source": [
    "fig, ax = plt.subplots(figsize=(3, 0.5), dpi=250)\n",
    "a = np.outer(np.arange(norm.vmin, norm.vmax, 0.01), np.ones(10)).T\n",
    "ax.imshow(a, aspect='auto', cmap=plt.cm.bwr, origin=\"lower\", norm=norm)\n",
    "simpleaxis(ax)\n",
    "xlabels = [-8, -4, 0, 4, 8]\n",
    "print([np.abs(a[0] - e).argmin() for e in xlabels])\n",
    "ax.set_xticks([np.abs(a[0] - e).argmin() for e in xlabels])\n",
    "ax.set_xticklabels(xlabels)\n",
    "ax.set_xlabel('nt strength contribution', fontsize=12)\n",
    "fig.savefig('./figs/secondary_structure_contribution_colorbar.svg',\n",
    "            transparent=True, pad_inches=0.1,\n",
    "    bbox_inches='tight')\n",
    "plt.show()"
   ]
  },
  {
   "cell_type": "code",
   "execution_count": null,
   "id": "ad2153ef",
   "metadata": {},
   "outputs": [],
   "source": []
  }
 ],
 "metadata": {
  "kernelspec": {
   "display_name": "Python 3 (ipykernel)",
   "language": "python",
   "name": "python3"
  },
  "language_info": {
   "codemirror_mode": {
    "name": "ipython",
    "version": 3
   },
   "file_extension": ".py",
   "mimetype": "text/x-python",
   "name": "python",
   "nbconvert_exporter": "python",
   "pygments_lexer": "ipython3",
   "version": "3.8.5"
  },
  "varInspector": {
   "cols": {
    "lenName": 16,
    "lenType": 16,
    "lenVar": 40
   },
   "kernels_config": {
    "python": {
     "delete_cmd_postfix": "",
     "delete_cmd_prefix": "del ",
     "library": "var_list.py",
     "varRefreshCmd": "print(var_dic_list())"
    },
    "r": {
     "delete_cmd_postfix": ") ",
     "delete_cmd_prefix": "rm(",
     "library": "var_list.r",
     "varRefreshCmd": "cat(var_dic_list()) "
    }
   },
   "types_to_exclude": [
    "module",
    "function",
    "builtin_function_or_method",
    "instance",
    "_Feature"
   ],
   "window_display": false
  }
 },
 "nbformat": 4,
 "nbformat_minor": 5
}
