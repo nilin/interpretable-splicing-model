{
 "cells": [
  {
   "cell_type": "code",
   "execution_count": 71,
   "id": "966097a9",
   "metadata": {
    "ExecuteTime": {
     "end_time": "2022-05-16T15:37:27.946593Z",
     "start_time": "2022-05-16T15:37:27.942742Z"
    }
   },
   "outputs": [],
   "source": [
    "import numpy as np\n",
    "import matplotlib.pyplot as plt\n",
    "import seaborn as sns\n",
    "import pandas as pd\n",
    "from scipy.stats import ttest_ind, ks_2samp, ttest_rel, ranksums, mannwhitneyu, wilcoxon, kruskal, median_test"
   ]
  },
  {
   "cell_type": "code",
   "execution_count": 2,
   "id": "59c446d3",
   "metadata": {
    "ExecuteTime": {
     "end_time": "2022-05-16T14:11:32.482378Z",
     "start_time": "2022-05-16T14:11:32.458978Z"
    }
   },
   "outputs": [],
   "source": [
    "plt.style.use(\"/home/ms7490/scratch/code/scratch/matplotlib/clean.mplstyle\")"
   ]
  },
  {
   "cell_type": "code",
   "execution_count": 3,
   "id": "12d0b6f3",
   "metadata": {
    "ExecuteTime": {
     "end_time": "2022-05-16T14:11:32.487726Z",
     "start_time": "2022-05-16T14:11:32.483117Z"
    }
   },
   "outputs": [],
   "source": [
    "machine_precision = np.finfo(np.float64).eps"
   ]
  },
  {
   "cell_type": "markdown",
   "id": "65599f5a",
   "metadata": {},
   "source": [
    "# Porg plot"
   ]
  },
  {
   "cell_type": "code",
   "execution_count": 22,
   "id": "ac937c5b",
   "metadata": {
    "ExecuteTime": {
     "end_time": "2022-05-11T14:30:22.459182Z",
     "start_time": "2022-05-11T14:30:22.174096Z"
    }
   },
   "outputs": [],
   "source": [
    "plot_data = pd.read_csv('./data/borg_experiment_data_events.csv', index_col=0)"
   ]
  },
  {
   "cell_type": "code",
   "execution_count": 23,
   "id": "d8c9453f",
   "metadata": {
    "ExecuteTime": {
     "end_time": "2022-05-11T14:30:22.515256Z",
     "start_time": "2022-05-11T14:30:22.460746Z"
    }
   },
   "outputs": [
    {
     "data": {
      "text/plain": [
       "Ttest_indResult(statistic=1.3339052752969371, pvalue=0.18223648600171236)"
      ]
     },
     "execution_count": 23,
     "metadata": {},
     "output_type": "execute_result"
    }
   ],
   "source": [
    "ttest_ind(plot_data.query('variable == \"num_exon_inclusion_skipping\" & high_borg_activation')['value'],\n",
    "          plot_data.query('variable == \"num_exon_inclusion_skipping\" & ~high_borg_activation')['value'])"
   ]
  },
  {
   "cell_type": "code",
   "execution_count": 24,
   "id": "7735435c",
   "metadata": {
    "ExecuteTime": {
     "end_time": "2022-05-11T14:30:22.560278Z",
     "start_time": "2022-05-11T14:30:22.516480Z"
    }
   },
   "outputs": [
    {
     "data": {
      "text/plain": [
       "Ttest_indResult(statistic=-71.36364921638456, pvalue=0.0)"
      ]
     },
     "execution_count": 24,
     "metadata": {},
     "output_type": "execute_result"
    }
   ],
   "source": [
    "ttest_ind(plot_data.query('variable == \"num_exon_inclusion\" & high_borg_activation')['value'],\n",
    "          plot_data.query('variable == \"num_exon_inclusion\" & ~high_borg_activation')['value'])"
   ]
  },
  {
   "cell_type": "code",
   "execution_count": 25,
   "id": "dc40fb44",
   "metadata": {
    "ExecuteTime": {
     "end_time": "2022-05-11T14:30:22.711095Z",
     "start_time": "2022-05-11T14:30:22.664412Z"
    }
   },
   "outputs": [
    {
     "data": {
      "text/plain": [
       "Ttest_indResult(statistic=84.4188898947244, pvalue=0.0)"
      ]
     },
     "execution_count": 25,
     "metadata": {},
     "output_type": "execute_result"
    }
   ],
   "source": [
    "pvalue = ttest_ind(plot_data.query('variable == \"num_exon_skipping\" & high_borg_activation')['value'],\n",
    "          plot_data.query('variable == \"num_exon_skipping\" & ~high_borg_activation')['value'])\n",
    "pvalue"
   ]
  },
  {
   "cell_type": "code",
   "execution_count": 26,
   "id": "9c2731aa",
   "metadata": {
    "ExecuteTime": {
     "end_time": "2022-05-11T14:30:23.503868Z",
     "start_time": "2022-05-11T14:30:22.835107Z"
    }
   },
   "outputs": [
    {
     "data": {
      "image/png": "[encoded data removed]",
      "text/plain": [
       "<Figure size 432x324 with 1 Axes>"
      ]
     },
     "metadata": {
      "needs_background": "light"
     },
     "output_type": "display_data"
    }
   ],
   "source": [
    "fig, ax = plt.subplots(figsize=(6, 4.5))\n",
    "sns.boxplot(x=\"variable\", y=\"value\", hue=\"high_borg_activation\",\n",
    "                    data=plot_data, palette=\"Set2\", showfliers=False, linewidth=2.5, ax=ax)\n",
    "ax.set_xticks(range(3))\n",
    "ax.set_xticklabels(['total', 'inclusion', 'exclusion'])\n",
    "ax.set_xlabel('')\n",
    "\n",
    "ax.set_ylim(-50, 750)\n",
    "ax.legend(ncol=1)\n",
    "ax.set_ylabel('Number of reads')\n",
    "ax.legend_.set_title('')\n",
    "for text in ax.legend_.texts:\n",
    "    if (text.get_text() == 'False'): text.set_text('G-poor filter activation $\\leq 20$')\n",
    "    if (text.get_text() == 'True'): text.set_text('G-poor filter activation $> 20$')\n",
    "        \n",
    "\n",
    "props = {'connectionstyle':'bar','arrowstyle':'-',\\\n",
    "                 'shrinkA':10,'shrinkB':10,'linewidth':2}\n",
    "# f'$p$ < {machine_precision:.2e}'\n",
    "ax.annotate(f'$p$ < {machine_precision:.0e}', xy=(2, 470), zorder=10, ha='center', va='center')\n",
    "barwidth = 0.2\n",
    "arrowheight = 400\n",
    "ax.annotate('', xy=(2-barwidth,arrowheight), xytext=(2+barwidth, arrowheight), arrowprops=props)\n",
    "\n",
    "\n",
    "ax.annotate(f'$p$ < {machine_precision:.0e}', xy=(1, 490), zorder=10, ha='center', va='center')\n",
    "barwidth = 0.2\n",
    "arrowheight = 420\n",
    "ax.annotate('', xy=(1-barwidth,arrowheight), xytext=(1+barwidth, arrowheight), arrowprops=props)\n",
    "\n",
    "        \n",
    "fig.savefig('./figs/borg_experiment_data_events.svg',\n",
    "            transparent=True, pad_inches=0.1,\n",
    "    bbox_inches='tight')"
   ]
  },
  {
   "cell_type": "markdown",
   "id": "620bb71e",
   "metadata": {},
   "source": [
    "# Structure plot"
   ]
  },
  {
   "cell_type": "code",
   "execution_count": 44,
   "id": "099676b7",
   "metadata": {
    "ExecuteTime": {
     "end_time": "2022-05-16T14:44:31.014199Z",
     "start_time": "2022-05-16T14:44:30.769441Z"
    }
   },
   "outputs": [],
   "source": [
    "plot_data = pd.read_csv('./data/structure_experiment_data_events.csv', index_col=0)"
   ]
  },
  {
   "cell_type": "code",
   "execution_count": 45,
   "id": "65f862ef",
   "metadata": {
    "ExecuteTime": {
     "end_time": "2022-05-16T14:44:31.217606Z",
     "start_time": "2022-05-16T14:44:31.183202Z"
    }
   },
   "outputs": [],
   "source": [
    "total_weak = plot_data.query('variable == \"num_exon_inclusion_skipping\" & high_structure_activation')['value'].values\n",
    "total_strong = plot_data.query('variable == \"num_exon_inclusion_skipping\" & ~high_structure_activation')['value'].values"
   ]
  },
  {
   "cell_type": "code",
   "execution_count": null,
   "id": "5ee9cc60",
   "metadata": {},
   "outputs": [],
   "source": []
  },
  {
   "cell_type": "code",
   "execution_count": 74,
   "id": "95dcecdd",
   "metadata": {
    "ExecuteTime": {
     "end_time": "2022-05-16T15:38:31.051094Z",
     "start_time": "2022-05-16T15:38:31.042205Z"
    }
   },
   "outputs": [
    {
     "data": {
      "text/plain": [
       "(8.613409957390141,\n",
       " 0.0033369697628937273,\n",
       " 159.0,\n",
       " array([[ 1262, 94524],\n",
       "        [ 1122, 94938]]))"
      ]
     },
     "execution_count": 74,
     "metadata": {},
     "output_type": "execute_result"
    }
   ],
   "source": [
    "median_test(total_weak, total_strong, correction=True)"
   ]
  },
  {
   "cell_type": "code",
   "execution_count": 69,
   "id": "fb50e8ec",
   "metadata": {
    "ExecuteTime": {
     "end_time": "2022-05-16T15:12:09.896551Z",
     "start_time": "2022-05-16T15:12:09.865608Z"
    }
   },
   "outputs": [
    {
     "data": {
      "text/plain": [
       "KruskalResult(statistic=15.48223434858717, pvalue=8.328436269151165e-05)"
      ]
     },
     "execution_count": 69,
     "metadata": {},
     "output_type": "execute_result"
    }
   ],
   "source": [
    "kruskal(total_weak, total_strong)"
   ]
  },
  {
   "cell_type": "code",
   "execution_count": 50,
   "id": "1d90e512",
   "metadata": {
    "ExecuteTime": {
     "end_time": "2022-05-16T14:44:37.578948Z",
     "start_time": "2022-05-16T14:44:37.525237Z"
    }
   },
   "outputs": [
    {
     "data": {
      "text/plain": [
       "KstestResult(statistic=0.04279098679206028, pvalue=0.00034958538371651193)"
      ]
     },
     "execution_count": 50,
     "metadata": {},
     "output_type": "execute_result"
    }
   ],
   "source": [
    "ks_2samp(plot_data.query('variable == \"num_exon_inclusion_skipping\" & high_structure_activation')['value'],\n",
    "         plot_data.query('variable == \"num_exon_inclusion_skipping\" & ~high_structure_activation')['value'], mode='asymp', alternative='two-sided')"
   ]
  },
  {
   "cell_type": "code",
   "execution_count": 51,
   "id": "3871df49",
   "metadata": {
    "ExecuteTime": {
     "end_time": "2022-05-16T14:44:37.742897Z",
     "start_time": "2022-05-16T14:44:37.691089Z"
    }
   },
   "outputs": [
    {
     "data": {
      "text/plain": [
       "KstestResult(statistic=0.1899281488969225, pvalue=7.820959919443553e-75)"
      ]
     },
     "execution_count": 51,
     "metadata": {},
     "output_type": "execute_result"
    }
   ],
   "source": [
    "pvalue = ks_2samp(plot_data.query('variable == \"num_exon_skipping\" & high_structure_activation')['value'],\n",
    "          plot_data.query('variable == \"num_exon_skipping\" & ~high_structure_activation')['value'])\n",
    "pvalue"
   ]
  },
  {
   "cell_type": "code",
   "execution_count": 52,
   "id": "168d1499",
   "metadata": {
    "ExecuteTime": {
     "end_time": "2022-05-16T14:44:37.881376Z",
     "start_time": "2022-05-16T14:44:37.828956Z"
    }
   },
   "outputs": [
    {
     "data": {
      "text/plain": [
       "KstestResult(statistic=0.16382988542123406, pvalue=1.1149385647299577e-55)"
      ]
     },
     "execution_count": 52,
     "metadata": {},
     "output_type": "execute_result"
    }
   ],
   "source": [
    "pvalue = ks_2samp(plot_data.query('variable == \"num_exon_inclusion\" & high_structure_activation')['value'],\n",
    "          plot_data.query('variable == \"num_exon_inclusion\" & ~high_structure_activation')['value'])\n",
    "pvalue"
   ]
  },
  {
   "cell_type": "code",
   "execution_count": 53,
   "id": "bde98380",
   "metadata": {
    "ExecuteTime": {
     "end_time": "2022-05-16T14:44:39.184599Z",
     "start_time": "2022-05-16T14:44:37.986572Z"
    }
   },
   "outputs": [
    {
     "name": "stderr",
     "output_type": "stream",
     "text": [
      "findfont: Font family ['sans-serif'] not found. Falling back to DejaVu Sans.\n",
      "findfont: Generic family 'sans-serif' not found because none of the following families were found: Arial\n",
      "findfont: Font family ['sans-serif'] not found. Falling back to DejaVu Sans.\n",
      "findfont: Generic family 'sans-serif' not found because none of the following families were found: Arial\n",
      "findfont: Font family ['sans-serif'] not found. Falling back to DejaVu Sans.\n",
      "findfont: Generic family 'sans-serif' not found because none of the following families were found: Arial\n"
     ]
    },
    {
     "data": {
      "image/png": "[encoded data removed]",
      "text/plain": [
       "<Figure size 432x324 with 1 Axes>"
      ]
     },
     "metadata": {
      "needs_background": "light"
     },
     "output_type": "display_data"
    }
   ],
   "source": [
    "fig, ax = plt.subplots(figsize=(6, 4.5))\n",
    "sns.boxplot(x=\"variable\", y=\"value\", hue=\"high_structure_activation\",\n",
    "                    data=plot_data, palette=\"Set2\", showfliers=False, linewidth=2.5, ax=ax)\n",
    "ax.set_xticks(range(3))\n",
    "ax.set_xticklabels(['total', 'inclusion', 'exclusion'])\n",
    "ax.set_xlabel('')\n",
    "\n",
    "ax.set_ylim(-50, 750)\n",
    "ax.legend(ncol=1)\n",
    "ax.set_ylabel('Number of reads')\n",
    "ax.legend_.set_title('')\n",
    "for text in ax.legend_.texts:\n",
    "    if (text.get_text() == 'False'): text.set_text('Stem-loop filter activation $\\leq 20$')\n",
    "    if (text.get_text() == 'True'): text.set_text('Stem-loop filter activation $> 20$')\n",
    "        \n",
    "props = {'connectionstyle':'bar','arrowstyle':'-',\\\n",
    "                 'shrinkA':10,'shrinkB':10,'linewidth':2}\n",
    "# f'$p$ < {machine_precision:.2e}'\n",
    "ax.annotate(f'$p$ < {machine_precision:.0e}', xy=(2, 470), zorder=10, ha='center', va='center')\n",
    "barwidth = 0.2\n",
    "arrowheight = 400\n",
    "ax.annotate('', xy=(2-barwidth,arrowheight), xytext=(2+barwidth, arrowheight), arrowprops=props)\n",
    "\n",
    "ax.annotate(f'$p$ < {machine_precision:.0e}', xy=(1, 490), zorder=10, ha='center', va='center')\n",
    "barwidth = 0.2\n",
    "arrowheight = 420\n",
    "ax.annotate('', xy=(1-barwidth,arrowheight), xytext=(1+barwidth, arrowheight), arrowprops=props)\n",
    "\n",
    "        \n",
    "fig.savefig('./figs/structure_experiment_data_events.svg',\n",
    "            transparent=True, pad_inches=0.1,\n",
    "    bbox_inches='tight')"
   ]
  },
  {
   "cell_type": "code",
   "execution_count": 67,
   "id": "aed7fc33",
   "metadata": {
    "ExecuteTime": {
     "end_time": "2022-05-16T15:00:11.973219Z",
     "start_time": "2022-05-16T15:00:11.946700Z"
    },
    "scrolled": true
   },
   "outputs": [
    {
     "data": {
      "text/plain": [
       "159.0"
      ]
     },
     "execution_count": 67,
     "metadata": {},
     "output_type": "execute_result"
    }
   ],
   "source": [
    "plot_data.query('variable == \"num_exon_inclusion_skipping\" & ~high_structure_activation')['value'].median()"
   ]
  },
  {
   "cell_type": "code",
   "execution_count": 54,
   "id": "3e16ccb2",
   "metadata": {
    "ExecuteTime": {
     "end_time": "2022-05-16T14:44:43.037635Z",
     "start_time": "2022-05-16T14:44:43.029436Z"
    }
   },
   "outputs": [
    {
     "data": {
      "text/plain": [
       "(169.0, 159.0)"
      ]
     },
     "execution_count": 54,
     "metadata": {},
     "output_type": "execute_result"
    }
   ],
   "source": [
    "np.median(total_weak), np.median(total_strong)"
   ]
  },
  {
   "cell_type": "code",
   "execution_count": 55,
   "id": "3be49d15",
   "metadata": {
    "ExecuteTime": {
     "end_time": "2022-05-16T14:44:48.291834Z",
     "start_time": "2022-05-16T14:44:48.285670Z"
    }
   },
   "outputs": [
    {
     "data": {
      "text/plain": [
       "(203.26929530201343, 190.05594261646135)"
      ]
     },
     "execution_count": 55,
     "metadata": {},
     "output_type": "execute_result"
    }
   ],
   "source": [
    "np.mean(total_weak), np.mean(total_strong)"
   ]
  },
  {
   "cell_type": "code",
   "execution_count": null,
   "id": "fdb3dee1",
   "metadata": {},
   "outputs": [],
   "source": []
  }
 ],
 "metadata": {
  "kernelspec": {
   "display_name": "Python 3 (ipykernel)",
   "language": "python",
   "name": "python3"
  },
  "language_info": {
   "codemirror_mode": {
    "name": "ipython",
    "version": 3
   },
   "file_extension": ".py",
   "mimetype": "text/x-python",
   "name": "python",
   "nbconvert_exporter": "python",
   "pygments_lexer": "ipython3",
   "version": "3.8.5"
  }
 },
 "nbformat": 4,
 "nbformat_minor": 5
}
