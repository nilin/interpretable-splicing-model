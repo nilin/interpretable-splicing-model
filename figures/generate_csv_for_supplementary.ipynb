{
 "cells": [
  {
   "cell_type": "markdown",
   "metadata": {},
   "source": [
    "# Load the preprocessed data, add predictions to the test data, and save them as CSV file for the supplementary"
   ]
  },
  {
   "cell_type": "code",
   "execution_count": 25,
   "metadata": {
    "ExecuteTime": {
     "end_time": "2022-05-02T13:41:52.374073Z",
     "start_time": "2022-05-02T13:41:45.616447Z"
    },
    "scrolled": true
   },
   "outputs": [
    {
     "name": "stderr",
     "output_type": "stream",
     "text": [
      "Using seed: 981\n"
     ]
    }
   ],
   "source": [
    "import math\n",
    "import os\n",
    "import sys\n",
    "\n",
    "import numpy as np\n",
    "import pandas as pd\n",
    "import tensorflow as tf\n",
    "from tensorflow.keras.models import load_model\n",
    "\n",
    "import RNAutils\n",
    "import sequence_logo\n",
    "import utils as U\n",
    "from quad_model import *\n",
    "\n",
    "SEED = 981\n",
    "print(\"Using seed:\", SEED, file=sys.stderr)\n",
    "np.random.seed(SEED)  # for reproducibility"
   ]
  },
  {
   "cell_type": "markdown",
   "metadata": {},
   "source": [
    "# Load data and model"
   ]
  },
  {
   "cell_type": "code",
   "execution_count": 2,
   "metadata": {
    "ExecuteTime": {
     "end_time": "2022-05-02T13:41:53.406942Z",
     "start_time": "2022-05-02T13:41:53.255144Z"
    }
   },
   "outputs": [],
   "source": [
    "barcode_statistics_tr = pd.read_csv('data/barcode_statistics_train_ES7_HeLa_ABC.csv.gz')\n",
    "barcode_statistics_te = pd.read_csv('data/barcode_statistics_test_ES7_HeLa_ABC.csv.gz')"
   ]
  },
  {
   "cell_type": "code",
   "execution_count": 3,
   "metadata": {},
   "outputs": [],
   "source": [
    "assert(list(barcode_statistics_te.columns) == list(barcode_statistics_tr.columns))"
   ]
  },
  {
   "cell_type": "code",
   "execution_count": 4,
   "metadata": {},
   "outputs": [],
   "source": [
    "def reformat_exon_data_for_export(df):\n",
    "    new_column_order = ['exon', 'badly_coupled', 'contains_restriction_site', 'num_reads', \n",
    "                        'num_exon_inclusion', 'num_exon_skipping',\n",
    "                        'num_intron_retention', \n",
    "                        'num_splicing_in_exon',\n",
    "                        'num_bad_exon1', 'num_bad_reads', 'num_unknown_splicing', 'others', \n",
    "                        'total']\n",
    "\n",
    "    df = df[new_column_order]\n",
    "    df.rename({\"num_reads\":\"num_DNA_reads\", \"others\":\"total_noncanonical\"}, axis=1, inplace=True)\n",
    "    df[\"num_DNA_reads\"] //= 3  # Mukund accidentally summed up all the columns, including the DNA count, which is identical in all three replicates; so need to divide by 3\n",
    "    assert((df.contains_restriction_site).sum() == 0)\n",
    "    assert((df.badly_coupled).sum() == 0)\n",
    "    df.drop([\"contains_restriction_site\", \"badly_coupled\"],axis=1, inplace=True)\n",
    "    return df"
   ]
  },
  {
   "cell_type": "code",
   "execution_count": 5,
   "metadata": {},
   "outputs": [
    {
     "name": "stderr",
     "output_type": "stream",
     "text": [
      "/tmp/ipykernel_4199/3758896231.py:10: SettingWithCopyWarning: \n",
      "A value is trying to be set on a copy of a slice from a DataFrame\n",
      "\n",
      "See the caveats in the documentation: https://pandas.pydata.org/pandas-docs/stable/user_guide/indexing.html#returning-a-view-versus-a-copy\n",
      "  df.rename({\"num_reads\":\"num_DNA_reads\", \"others\":\"total_noncanonical\"}, axis=1, inplace=True)\n",
      "/tmp/ipykernel_4199/3758896231.py:11: SettingWithCopyWarning: \n",
      "A value is trying to be set on a copy of a slice from a DataFrame.\n",
      "Try using .loc[row_indexer,col_indexer] = value instead\n",
      "\n",
      "See the caveats in the documentation: https://pandas.pydata.org/pandas-docs/stable/user_guide/indexing.html#returning-a-view-versus-a-copy\n",
      "  df[\"num_DNA_reads\"] //= 3  # Mukund accidentally summed up all the columns, including the DNA count, which is identical in all three replicates; so need to divide by 3\n",
      "/tmp/ipykernel_4199/3758896231.py:14: SettingWithCopyWarning: \n",
      "A value is trying to be set on a copy of a slice from a DataFrame\n",
      "\n",
      "See the caveats in the documentation: https://pandas.pydata.org/pandas-docs/stable/user_guide/indexing.html#returning-a-view-versus-a-copy\n",
      "  df.drop([\"contains_restriction_site\", \"badly_coupled\"],axis=1, inplace=True)\n"
     ]
    }
   ],
   "source": [
    "barcode_statistics_tr = reformat_exon_data_for_export(barcode_statistics_tr)"
   ]
  },
  {
   "cell_type": "code",
   "execution_count": 11,
   "metadata": {},
   "outputs": [],
   "source": [
    "from joblib import load\n",
    "yTr = load(f'data/yTr_ES7_HeLa_ABC.pkl.gz')"
   ]
  },
  {
   "cell_type": "code",
   "execution_count": 12,
   "metadata": {},
   "outputs": [
    {
     "name": "stderr",
     "output_type": "stream",
     "text": [
      "/tmp/ipykernel_4199/3514304405.py:1: SettingWithCopyWarning: \n",
      "A value is trying to be set on a copy of a slice from a DataFrame.\n",
      "Try using .loc[row_indexer,col_indexer] = value instead\n",
      "\n",
      "See the caveats in the documentation: https://pandas.pydata.org/pandas-docs/stable/user_guide/indexing.html#returning-a-view-versus-a-copy\n",
      "  barcode_statistics_tr[\"PSI\"] = yTr\n"
     ]
    }
   ],
   "source": [
    "barcode_statistics_tr[\"PSI\"] = yTr"
   ]
  },
  {
   "cell_type": "code",
   "execution_count": 14,
   "metadata": {},
   "outputs": [],
   "source": [
    "barcode_statistics_tr.to_csv(\"data/training_data.csv\")"
   ]
  },
  {
   "cell_type": "code",
   "execution_count": 15,
   "metadata": {},
   "outputs": [
    {
     "name": "stderr",
     "output_type": "stream",
     "text": [
      "/tmp/ipykernel_4199/3758896231.py:10: SettingWithCopyWarning: \n",
      "A value is trying to be set on a copy of a slice from a DataFrame\n",
      "\n",
      "See the caveats in the documentation: https://pandas.pydata.org/pandas-docs/stable/user_guide/indexing.html#returning-a-view-versus-a-copy\n",
      "  df.rename({\"num_reads\":\"num_DNA_reads\", \"others\":\"total_noncanonical\"}, axis=1, inplace=True)\n",
      "/tmp/ipykernel_4199/3758896231.py:11: SettingWithCopyWarning: \n",
      "A value is trying to be set on a copy of a slice from a DataFrame.\n",
      "Try using .loc[row_indexer,col_indexer] = value instead\n",
      "\n",
      "See the caveats in the documentation: https://pandas.pydata.org/pandas-docs/stable/user_guide/indexing.html#returning-a-view-versus-a-copy\n",
      "  df[\"num_DNA_reads\"] //= 3  # Mukund accidentally summed up all the columns, including the DNA count, which is identical in all three replicates; so need to divide by 3\n",
      "/tmp/ipykernel_4199/3758896231.py:14: SettingWithCopyWarning: \n",
      "A value is trying to be set on a copy of a slice from a DataFrame\n",
      "\n",
      "See the caveats in the documentation: https://pandas.pydata.org/pandas-docs/stable/user_guide/indexing.html#returning-a-view-versus-a-copy\n",
      "  df.drop([\"contains_restriction_site\", \"badly_coupled\"],axis=1, inplace=True)\n"
     ]
    }
   ],
   "source": [
    "barcode_statistics_te = reformat_exon_data_for_export(barcode_statistics_te)"
   ]
  },
  {
   "cell_type": "code",
   "execution_count": 16,
   "metadata": {},
   "outputs": [],
   "source": [
    "yTe = load(f'data/yTe_ES7_HeLa_ABC.pkl.gz')"
   ]
  },
  {
   "cell_type": "code",
   "execution_count": 17,
   "metadata": {},
   "outputs": [
    {
     "name": "stderr",
     "output_type": "stream",
     "text": [
      "/tmp/ipykernel_4199/1861535574.py:1: SettingWithCopyWarning: \n",
      "A value is trying to be set on a copy of a slice from a DataFrame.\n",
      "Try using .loc[row_indexer,col_indexer] = value instead\n",
      "\n",
      "See the caveats in the documentation: https://pandas.pydata.org/pandas-docs/stable/user_guide/indexing.html#returning-a-view-versus-a-copy\n",
      "  barcode_statistics_te[\"PSI\"] = yTe\n"
     ]
    }
   ],
   "source": [
    "barcode_statistics_te[\"PSI\"] = yTe"
   ]
  },
  {
   "cell_type": "markdown",
   "metadata": {},
   "source": [
    "Add predictions to the test set (and only the test set)"
   ]
  },
  {
   "cell_type": "code",
   "execution_count": 18,
   "metadata": {
    "ExecuteTime": {
     "end_time": "2022-05-02T13:41:53.967370Z",
     "start_time": "2022-05-02T13:41:53.407824Z"
    }
   },
   "outputs": [],
   "source": [
    "model_fname = f'custom_adjacency_regularizer_20210731_124_step3.h5'\n",
    "model = load_model(model_fname)"
   ]
  },
  {
   "cell_type": "code",
   "execution_count": 21,
   "metadata": {},
   "outputs": [],
   "source": [
    "xTe = load(f'data/xTe_ES7_HeLa_ABC.pkl.gz')"
   ]
  },
  {
   "cell_type": "code",
   "execution_count": 22,
   "metadata": {},
   "outputs": [
    {
     "name": "stderr",
     "output_type": "stream",
     "text": [
      "/tmp/ipykernel_4199/3359723967.py:1: SettingWithCopyWarning: \n",
      "A value is trying to be set on a copy of a slice from a DataFrame.\n",
      "Try using .loc[row_indexer,col_indexer] = value instead\n",
      "\n",
      "See the caveats in the documentation: https://pandas.pydata.org/pandas-docs/stable/user_guide/indexing.html#returning-a-view-versus-a-copy\n",
      "  barcode_statistics_te[\"predicted_PSI\"] = np.array(model(xTe)).flatten()\n"
     ]
    }
   ],
   "source": [
    "barcode_statistics_te[\"predicted_PSI\"] = np.array(model(xTe)).flatten()"
   ]
  },
  {
   "cell_type": "code",
   "execution_count": 24,
   "metadata": {},
   "outputs": [],
   "source": [
    "barcode_statistics_te.to_csv(\"data/test_data.csv\")"
   ]
  }
 ],
 "metadata": {
  "kernelspec": {
   "display_name": "Python 3 (ipykernel)",
   "language": "python",
   "name": "python3"
  },
  "language_info": {
   "codemirror_mode": {
    "name": "ipython",
    "version": 3
   },
   "file_extension": ".py",
   "mimetype": "text/x-python",
   "name": "python",
   "nbconvert_exporter": "python",
   "pygments_lexer": "ipython3",
   "version": "3.10.6"
  }
 },
 "nbformat": 4,
 "nbformat_minor": 4
}
